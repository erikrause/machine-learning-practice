{
  "nbformat": 4,
  "nbformat_minor": 0,
  "metadata": {
    "kernelspec": {
      "display_name": "Python 3",
      "language": "python",
      "name": "python3"
    },
    "language_info": {
      "codemirror_mode": {
        "name": "ipython",
        "version": 3
      },
      "file_extension": ".py",
      "mimetype": "text/x-python",
      "name": "python",
      "nbconvert_exporter": "python",
      "pygments_lexer": "ipython3",
      "version": "3.6.3"
    },
    "colab": {
      "provenance": [],
      "collapsed_sections": []
    }
  },
  "cells": [
    {
      "cell_type": "code",
      "metadata": {
        "id": "-a8wv9YH-nPH",
        "colab": {
          "base_uri": "https://localhost:8080/"
        },
        "outputId": "dc9d5d28-b56e-4d95-ed53-87d2b861390a"
      },
      "source": [
        "# скачиваем файл\n",
        "!wget --no-check-certificate 'https://docs.google.com/uc?export=download&id=1VPkoWfiIvZl4HGp49BUaVEEblVIGYh91' -O heart.csv"
      ],
      "execution_count": null,
      "outputs": [
        {
          "output_type": "stream",
          "name": "stdout",
          "text": [
            "--2021-11-05 21:09:35--  https://docs.google.com/uc?export=download&id=1VPkoWfiIvZl4HGp49BUaVEEblVIGYh91\n",
            "Resolving docs.google.com (docs.google.com)... 172.217.9.206, 2607:f8b0:4004:806::200e\n",
            "Connecting to docs.google.com (docs.google.com)|172.217.9.206|:443... connected.\n",
            "HTTP request sent, awaiting response... 302 Moved Temporarily\n",
            "Location: https://doc-0k-5k-docs.googleusercontent.com/docs/securesc/ha0ro937gcuc7l7deffksulhg5h7mbp1/gngh74jh69cqu8fh5svmaqon1gj7rpa1/1636146525000/07828702499945486090/*/1VPkoWfiIvZl4HGp49BUaVEEblVIGYh91?e=download [following]\n",
            "Warning: wildcards not supported in HTTP.\n",
            "--2021-11-05 21:09:35--  https://doc-0k-5k-docs.googleusercontent.com/docs/securesc/ha0ro937gcuc7l7deffksulhg5h7mbp1/gngh74jh69cqu8fh5svmaqon1gj7rpa1/1636146525000/07828702499945486090/*/1VPkoWfiIvZl4HGp49BUaVEEblVIGYh91?e=download\n",
            "Resolving doc-0k-5k-docs.googleusercontent.com (doc-0k-5k-docs.googleusercontent.com)... 142.251.33.193, 2607:f8b0:4004:837::2001\n",
            "Connecting to doc-0k-5k-docs.googleusercontent.com (doc-0k-5k-docs.googleusercontent.com)|142.251.33.193|:443... connected.\n",
            "HTTP request sent, awaiting response... 200 OK\n",
            "Length: 11328 (11K) [text/csv]\n",
            "Saving to: ‘heart.csv’\n",
            "\n",
            "heart.csv           100%[===================>]  11.06K  --.-KB/s    in 0s      \n",
            "\n",
            "2021-11-05 21:09:35 (75.6 MB/s) - ‘heart.csv’ saved [11328/11328]\n",
            "\n"
          ]
        }
      ]
    },
    {
      "cell_type": "code",
      "metadata": {
        "id": "w-OkhzbjMrfb",
        "colab": {
          "base_uri": "https://localhost:8080/"
        },
        "outputId": "9915c801-1d55-48bf-d96c-29180f448b85"
      },
      "source": [
        "# устанавливаем нужную версию библиотеки sklearn, чтобы ответы сошлись\n",
        "!pip install scikit-learn==0.22.1"
      ],
      "execution_count": null,
      "outputs": [
        {
          "output_type": "stream",
          "name": "stdout",
          "text": [
            "Collecting scikit-learn==0.22.1\n",
            "  Downloading scikit_learn-0.22.1-cp37-cp37m-manylinux1_x86_64.whl (7.0 MB)\n",
            "\u001b[K     |████████████████████████████████| 7.0 MB 26.6 MB/s \n",
            "\u001b[?25hRequirement already satisfied: numpy>=1.11.0 in /usr/local/lib/python3.7/dist-packages (from scikit-learn==0.22.1) (1.19.5)\n",
            "Requirement already satisfied: joblib>=0.11 in /usr/local/lib/python3.7/dist-packages (from scikit-learn==0.22.1) (1.0.1)\n",
            "Requirement already satisfied: scipy>=0.17.0 in /usr/local/lib/python3.7/dist-packages (from scikit-learn==0.22.1) (1.4.1)\n",
            "Installing collected packages: scikit-learn\n",
            "  Attempting uninstall: scikit-learn\n",
            "    Found existing installation: scikit-learn 0.22.2.post1\n",
            "    Uninstalling scikit-learn-0.22.2.post1:\n",
            "      Successfully uninstalled scikit-learn-0.22.2.post1\n",
            "Successfully installed scikit-learn-0.22.1\n"
          ]
        }
      ]
    },
    {
      "cell_type": "code",
      "metadata": {
        "id": "GlYLS9t3-Y0T"
      },
      "source": [
        "import numpy as np\n",
        "import pandas as pd"
      ],
      "execution_count": null,
      "outputs": []
    },
    {
      "cell_type": "markdown",
      "metadata": {
        "id": "cYMVB5Yx-Y0W"
      },
      "source": [
        "В этом задании вы будете работать с [данными о пациентах, у части которых есть заболевание сердца](https://www.kaggle.com/ronitf/heart-disease-uci). Вам нужно построить модель, классифицирующую пациентов на больных этим заболеванием и тех, у кого его нет, а также проанализировать результаты."
      ]
    },
    {
      "cell_type": "code",
      "metadata": {
        "id": "X6qnhkcC-Y0W",
        "colab": {
          "base_uri": "https://localhost:8080/",
          "height": 206
        },
        "outputId": "e91a251f-be75-499d-bc7c-2de79eeb87bf"
      },
      "source": [
        "data = pd.read_csv('heart.csv')\n",
        "data.head()"
      ],
      "execution_count": null,
      "outputs": [
        {
          "output_type": "execute_result",
          "data": {
            "text/html": [
              "<div>\n",
              "<style scoped>\n",
              "    .dataframe tbody tr th:only-of-type {\n",
              "        vertical-align: middle;\n",
              "    }\n",
              "\n",
              "    .dataframe tbody tr th {\n",
              "        vertical-align: top;\n",
              "    }\n",
              "\n",
              "    .dataframe thead th {\n",
              "        text-align: right;\n",
              "    }\n",
              "</style>\n",
              "<table border=\"1\" class=\"dataframe\">\n",
              "  <thead>\n",
              "    <tr style=\"text-align: right;\">\n",
              "      <th></th>\n",
              "      <th>age</th>\n",
              "      <th>sex</th>\n",
              "      <th>cp</th>\n",
              "      <th>trestbps</th>\n",
              "      <th>chol</th>\n",
              "      <th>fbs</th>\n",
              "      <th>restecg</th>\n",
              "      <th>thalach</th>\n",
              "      <th>exang</th>\n",
              "      <th>oldpeak</th>\n",
              "      <th>slope</th>\n",
              "      <th>ca</th>\n",
              "      <th>thal</th>\n",
              "      <th>target</th>\n",
              "    </tr>\n",
              "  </thead>\n",
              "  <tbody>\n",
              "    <tr>\n",
              "      <th>0</th>\n",
              "      <td>63</td>\n",
              "      <td>1</td>\n",
              "      <td>3</td>\n",
              "      <td>145</td>\n",
              "      <td>233</td>\n",
              "      <td>1</td>\n",
              "      <td>0</td>\n",
              "      <td>150</td>\n",
              "      <td>0</td>\n",
              "      <td>2.3</td>\n",
              "      <td>0</td>\n",
              "      <td>0</td>\n",
              "      <td>1</td>\n",
              "      <td>1</td>\n",
              "    </tr>\n",
              "    <tr>\n",
              "      <th>1</th>\n",
              "      <td>37</td>\n",
              "      <td>1</td>\n",
              "      <td>2</td>\n",
              "      <td>130</td>\n",
              "      <td>250</td>\n",
              "      <td>0</td>\n",
              "      <td>1</td>\n",
              "      <td>187</td>\n",
              "      <td>0</td>\n",
              "      <td>3.5</td>\n",
              "      <td>0</td>\n",
              "      <td>0</td>\n",
              "      <td>2</td>\n",
              "      <td>1</td>\n",
              "    </tr>\n",
              "    <tr>\n",
              "      <th>2</th>\n",
              "      <td>41</td>\n",
              "      <td>0</td>\n",
              "      <td>1</td>\n",
              "      <td>130</td>\n",
              "      <td>204</td>\n",
              "      <td>0</td>\n",
              "      <td>0</td>\n",
              "      <td>172</td>\n",
              "      <td>0</td>\n",
              "      <td>1.4</td>\n",
              "      <td>2</td>\n",
              "      <td>0</td>\n",
              "      <td>2</td>\n",
              "      <td>1</td>\n",
              "    </tr>\n",
              "    <tr>\n",
              "      <th>3</th>\n",
              "      <td>56</td>\n",
              "      <td>1</td>\n",
              "      <td>1</td>\n",
              "      <td>120</td>\n",
              "      <td>236</td>\n",
              "      <td>0</td>\n",
              "      <td>1</td>\n",
              "      <td>178</td>\n",
              "      <td>0</td>\n",
              "      <td>0.8</td>\n",
              "      <td>2</td>\n",
              "      <td>0</td>\n",
              "      <td>2</td>\n",
              "      <td>1</td>\n",
              "    </tr>\n",
              "    <tr>\n",
              "      <th>4</th>\n",
              "      <td>57</td>\n",
              "      <td>0</td>\n",
              "      <td>0</td>\n",
              "      <td>120</td>\n",
              "      <td>354</td>\n",
              "      <td>0</td>\n",
              "      <td>1</td>\n",
              "      <td>163</td>\n",
              "      <td>1</td>\n",
              "      <td>0.6</td>\n",
              "      <td>2</td>\n",
              "      <td>0</td>\n",
              "      <td>2</td>\n",
              "      <td>1</td>\n",
              "    </tr>\n",
              "  </tbody>\n",
              "</table>\n",
              "</div>"
            ],
            "text/plain": [
              "   age  sex  cp  trestbps  chol  fbs  ...  exang  oldpeak  slope  ca  thal  target\n",
              "0   63    1   3       145   233    1  ...      0      2.3      0   0     1       1\n",
              "1   37    1   2       130   250    0  ...      0      3.5      0   0     2       1\n",
              "2   41    0   1       130   204    0  ...      0      1.4      2   0     2       1\n",
              "3   56    1   1       120   236    0  ...      0      0.8      2   0     2       1\n",
              "4   57    0   0       120   354    0  ...      1      0.6      2   0     2       1\n",
              "\n",
              "[5 rows x 14 columns]"
            ]
          },
          "metadata": {},
          "execution_count": 4
        }
      ]
    },
    {
      "cell_type": "markdown",
      "metadata": {
        "id": "vSEr-DrP-Y0Z"
      },
      "source": [
        "1. Какой процент пациентов из представленных в данных имеет заболевание сердца (`'target' = 1`)? Ответ округлите до двух знаков после запятой."
      ]
    },
    {
      "cell_type": "code",
      "metadata": {
        "id": "zTmRguplRkee",
        "colab": {
          "base_uri": "https://localhost:8080/"
        },
        "outputId": "2695b85b-be58-4eab-ea3d-e128016dd4c7"
      },
      "source": [
        "data.target.value_counts(normalize=True)"
      ],
      "execution_count": null,
      "outputs": [
        {
          "output_type": "execute_result",
          "data": {
            "text/plain": [
              "1    0.544554\n",
              "0    0.455446\n",
              "Name: target, dtype: float64"
            ]
          },
          "metadata": {},
          "execution_count": 5
        }
      ]
    },
    {
      "cell_type": "markdown",
      "metadata": {
        "id": "QmAs_uLvHkEZ"
      },
      "source": [
        "**Ответ:** 54,46% пациентов в выборке имеет заболевание сердца:"
      ]
    },
    {
      "cell_type": "markdown",
      "metadata": {
        "id": "UuXUxx8C-Y0c"
      },
      "source": [
        "Разделим данную выборку на обучающую и тестовую части в отношении 3:1."
      ]
    },
    {
      "cell_type": "code",
      "metadata": {
        "id": "SDAbZBIF-Y0c",
        "colab": {
          "base_uri": "https://localhost:8080/"
        },
        "outputId": "8d13bd36-cef2-4be0-f836-b5c9e78b861f"
      },
      "source": [
        "from sklearn.model_selection import train_test_split\n",
        "X_train, X_test, y_train, y_test = train_test_split(data.drop('target', axis=1), data['target'], test_size=0.25, random_state=13)\n",
        "X_train.shape, X_test.shape"
      ],
      "execution_count": null,
      "outputs": [
        {
          "output_type": "execute_result",
          "data": {
            "text/plain": [
              "((227, 13), (76, 13))"
            ]
          },
          "metadata": {},
          "execution_count": 6
        }
      ]
    },
    {
      "cell_type": "markdown",
      "metadata": {
        "id": "zx6L2daY-Y0f"
      },
      "source": [
        "2. Обучите линейный классификатор из `sklearn` (`sklearn.linear_model.SGDClassifier`) с максимальным числом итераций `max_iter=1000`, постоянным значением шага градиентного спуска (`learning_rate='constant'`), равным `eta0=0.1`. В качестве сида поставьте `random_state=13`. Параметр регуляризации отключите: `alpha=0`. Класс `sklearn.linear_model.SGDClassifier` объединяет в себе разные линейные модели - чтобы получить логистическую регрессию, зафиксируйте параметр `loss='log'`.\n",
        "\n",
        "   Подробнее о параметрах можно почитать в [документации](https://scikit-learn.org/stable/modules/generated/sklearn.linear_model.SGDClassifier.html).\n",
        "\n",
        "   Какое значение свободного коэффициента у полученного линейного классификатора? Ответ округлите до двух знаков после запятой."
      ]
    },
    {
      "cell_type": "code",
      "metadata": {
        "id": "oEajYrOrRmNM"
      },
      "source": [
        "from sklearn.linear_model import SGDClassifier\n",
        "\n",
        "clf = SGDClassifier(max_iter=1000, learning_rate='constant', eta0=0.1, random_state=13, alpha=0, loss='log')"
      ],
      "execution_count": null,
      "outputs": []
    },
    {
      "cell_type": "code",
      "metadata": {
        "colab": {
          "base_uri": "https://localhost:8080/"
        },
        "id": "m0ne90m7JRKV",
        "outputId": "9a9fbb17-a8a7-4190-e211-65de4f197284"
      },
      "source": [
        "clf.fit(X_train, y_train)"
      ],
      "execution_count": null,
      "outputs": [
        {
          "output_type": "execute_result",
          "data": {
            "text/plain": [
              "SGDClassifier(alpha=0, average=False, class_weight=None, early_stopping=False,\n",
              "              epsilon=0.1, eta0=0.1, fit_intercept=True, l1_ratio=0.15,\n",
              "              learning_rate='constant', loss='log', max_iter=1000,\n",
              "              n_iter_no_change=5, n_jobs=None, penalty='l2', power_t=0.5,\n",
              "              random_state=13, shuffle=True, tol=0.001, validation_fraction=0.1,\n",
              "              verbose=0, warm_start=False)"
            ]
          },
          "metadata": {},
          "execution_count": 8
        }
      ]
    },
    {
      "cell_type": "code",
      "metadata": {
        "colab": {
          "base_uri": "https://localhost:8080/"
        },
        "id": "8AHIvlflJ7sE",
        "outputId": "9fc0f022-7072-4c44-d760-9e97d5d5b72c"
      },
      "source": [
        "clf.intercept_  # возвращает свободный коэффициент"
      ],
      "execution_count": null,
      "outputs": [
        {
          "output_type": "execute_result",
          "data": {
            "text/plain": [
              "array([-1.15927929])"
            ]
          },
          "metadata": {},
          "execution_count": 9
        }
      ]
    },
    {
      "cell_type": "markdown",
      "metadata": {
        "id": "MpQP-UAy-Y0i"
      },
      "source": [
        "3. Какое значение L2-нормы вектора весов (без учета свободного коэффициента) у полученного линейного классификатора? Ответ округлите до двух знаков после запятой.\n",
        "\n",
        "_Напоминание. L2-норма вектора $v = (v_1, \\ldots, v_n)$ - это корень из суммы квадратов его элементов:_\n",
        "\n",
        "$$\n",
        "\\|v\\|_2 = \\sqrt{\\sum\\limits_{i=1}^nv_i^2}\n",
        "$$"
      ]
    },
    {
      "cell_type": "code",
      "metadata": {
        "id": "L7Yxn8vnRpIX",
        "colab": {
          "base_uri": "https://localhost:8080/"
        },
        "outputId": "1e93a079-24e7-4cb2-f744-104f66968e66"
      },
      "source": [
        "w = clf.coef_\n",
        "sqrt_w = pow(w, 2)\n",
        "sum = sqrt_w.sum()\n",
        "l2_norm = sum ** 0.5\n",
        "\n",
        "print(l2_norm)"
      ],
      "execution_count": null,
      "outputs": [
        {
          "output_type": "stream",
          "name": "stdout",
          "text": [
            "175.67735435821564\n"
          ]
        }
      ]
    },
    {
      "cell_type": "markdown",
      "metadata": {
        "id": "xCAGwry5-Y0k"
      },
      "source": [
        "4. Найдите долю правильных ответов классификатора на тестовой части выборки **(в процентах)**. Ответ округлите до двух знаков после запятой. Например, если значение доли правильных ответов будет равно 0.1234, то ответом будет 12.34 - ведь это 12.34%."
      ]
    },
    {
      "cell_type": "code",
      "metadata": {
        "colab": {
          "base_uri": "https://localhost:8080/"
        },
        "id": "BqPkbiaZlRTQ",
        "outputId": "ff5d8d46-7ae1-4731-9d7b-af0a0e78c273"
      },
      "source": [
        "import numpy as np\n",
        "\n",
        "y_test_predict = clf.predict(X_test)\n",
        "y_test_comp = np.equal(y_test_predict, y_test)\n",
        "y_test_comp.value_counts(normalize=True)"
      ],
      "execution_count": null,
      "outputs": [
        {
          "output_type": "execute_result",
          "data": {
            "text/plain": [
              "True     0.618421\n",
              "False    0.381579\n",
              "Name: target, dtype: float64"
            ]
          },
          "metadata": {},
          "execution_count": 11
        }
      ]
    },
    {
      "cell_type": "markdown",
      "metadata": {
        "id": "hDyx2T5mmqka"
      },
      "source": [
        "**Ответ:** Доля правильных ответов на тестовой выборке - 61,84%."
      ]
    },
    {
      "cell_type": "markdown",
      "metadata": {
        "id": "ICrH_Gb_-Y0n"
      },
      "source": [
        "5. В задаче классификации, как и в задаче регрессии, для оптимизации линейных моделей можно применять регуляризацию. Этот метод реализован и в `sklearn.linear_model.SGDClassifier` - параметр регуляризации обозначается параметром `alpha`. За тип регуляризации (L1, L2 или обе сразу) отвечает параметр `penalty`. \n",
        "\n",
        "   Обучите классификатор заново с параметром регуляризации `alpha=0.1` и типом регуляризации `penalty='l1'`. Оставьте максимальное число итераций, равное `max_iter=1000` и сид `random_state=13`. Также вместо постоянного значения шага градиентного спуска используйте оптимальное (`learning_rate='optimal'`), которое, кстати, зависит от `alpha` (о том, как именно он вычисляется и какие еще параметры можно выбрать, можно подробнее прочитать в [документации](https://scikit-learn.org/stable/modules/generated/sklearn.linear_model.SGDClassifier.html)). В данном случае значение начального шага градиентного спуска `eta0` никак не участвует в обучении.\n",
        "   \n",
        "   Отличается ли качество полученного классификатора от качества первого? Какая доля правильных ответов получается теперь на тестовой выборке? Выразите ее **в процентах**, ответ округлите до двух знаков после запятой. Например, если значение доли правильных ответов будет равно 0.1234, то ответом будет 12.34 - ведь это 12.34%."
      ]
    },
    {
      "cell_type": "code",
      "metadata": {
        "id": "1que_LwfRspA",
        "colab": {
          "base_uri": "https://localhost:8080/"
        },
        "outputId": "78e76b28-a23c-4141-e636-72f4c2b4514f"
      },
      "source": [
        "clf_reg = SGDClassifier(max_iter=1000, \n",
        "                        learning_rate='optimal', \n",
        "                        eta0=0.1,\n",
        "                        random_state=13,\n",
        "                        alpha=0.1,\n",
        "                        loss='log',\n",
        "                        penalty='l1')\n",
        "\n",
        "clf_reg.fit(X_train, y_train)"
      ],
      "execution_count": null,
      "outputs": [
        {
          "output_type": "execute_result",
          "data": {
            "text/plain": [
              "SGDClassifier(alpha=0.1, average=False, class_weight=None, early_stopping=False,\n",
              "              epsilon=0.1, eta0=0.1, fit_intercept=True, l1_ratio=0.15,\n",
              "              learning_rate='optimal', loss='log', max_iter=1000,\n",
              "              n_iter_no_change=5, n_jobs=None, penalty='l1', power_t=0.5,\n",
              "              random_state=13, shuffle=True, tol=0.001, validation_fraction=0.1,\n",
              "              verbose=0, warm_start=False)"
            ]
          },
          "metadata": {},
          "execution_count": 12
        }
      ]
    },
    {
      "cell_type": "code",
      "metadata": {
        "colab": {
          "base_uri": "https://localhost:8080/"
        },
        "id": "jQMVVad9pTZ2",
        "outputId": "ba149790-bb0f-4b34-eab3-21cb1a0ad2d1"
      },
      "source": [
        "import numpy as np\n",
        "\n",
        "y_test_reg_predict = clf_reg.predict(X_test)\n",
        "y_test_reg_comp = np.equal(y_test_reg_predict, y_test)\n",
        "y_test_reg_comp.value_counts(normalize=True)"
      ],
      "execution_count": null,
      "outputs": [
        {
          "output_type": "execute_result",
          "data": {
            "text/plain": [
              "True     0.763158\n",
              "False    0.236842\n",
              "Name: target, dtype: float64"
            ]
          },
          "metadata": {},
          "execution_count": 13
        }
      ]
    },
    {
      "cell_type": "markdown",
      "metadata": {
        "id": "EVNMdI81p5de"
      },
      "source": [
        "Ответ: при использовании регуляризации был улучшено предсказание модели на тестовой выборке - 76,32%."
      ]
    },
    {
      "cell_type": "markdown",
      "metadata": {
        "id": "RWB9OD-4-Y0q"
      },
      "source": [
        "6. Найдите L2-норму вектора весов для полученного классификатора (заметьте, как на нее повлияла регуляризация). Ответ округлите до двух знаков после запятой.\n",
        "\n",
        "    Заметьте, что вектор стал более разреженным, и в нем появились нулевые элементы - это результат действия L1-регуляризации."
      ]
    },
    {
      "cell_type": "code",
      "metadata": {
        "id": "WKYcsHbBRuN0",
        "colab": {
          "base_uri": "https://localhost:8080/"
        },
        "outputId": "4bd55d75-78d2-42b0-bbd8-5a0578c5e918"
      },
      "source": [
        "w_reg = clf_reg.coef_\n",
        "w_reg     # вывод весовых коэффициентов."
      ],
      "execution_count": null,
      "outputs": [
        {
          "output_type": "execute_result",
          "data": {
            "text/plain": [
              "array([[-0.87424016,  0.        ,  9.26085004, -0.45773776, -0.01501012,\n",
              "         0.        ,  0.        ,  0.74467772,  0.        , -0.25903021,\n",
              "         0.        , -4.1192229 , -2.1071261 ]])"
            ]
          },
          "metadata": {},
          "execution_count": 14
        }
      ]
    },
    {
      "cell_type": "code",
      "metadata": {
        "colab": {
          "base_uri": "https://localhost:8080/"
        },
        "id": "4fYDIJsPhWP1",
        "outputId": "42e89d06-b1a2-43d9-9d92-66ff5db22a36"
      },
      "source": [
        "from numpy.linalg import norm\n",
        "\n",
        "norm(w_reg)   # выводит номру вектора (используется билблиотека numpy)."
      ],
      "execution_count": null,
      "outputs": [
        {
          "output_type": "execute_result",
          "data": {
            "text/plain": [
              "10.429142228977849"
            ]
          },
          "metadata": {},
          "execution_count": 15
        }
      ]
    },
    {
      "cell_type": "markdown",
      "metadata": {
        "id": "WioWROTf-Y0t"
      },
      "source": [
        "7. Наконец, проверьте, как полученные классификаторы предсказывают не классы, а вероятности классов - так как мы работаем с логистической регрессией, это можно сделать. Посмотрите на вероятности, которые выдает первый классификатор (обученный с постоянным шагом градиентного спуска и без регуляризации) на тестовой части выборки. В этом вам поможет метод `predict_proba`. Результатом его работы будет список размера $N\\times 2$, где $N$ - это число объектов. В каждом столбце списка находятся вероятности соответствующего класса для объектов. Поэтому если вам нужен положительный класс, вас интересует последний столбец.\n",
        "\n",
        "    Какое получается значение AUC-ROC? Ответ округлите до двух знаков после запятой."
      ]
    },
    {
      "cell_type": "code",
      "metadata": {
        "id": "QkuOlmt6RvaD",
        "colab": {
          "base_uri": "https://localhost:8080/"
        },
        "outputId": "b2ccd528-34e5-4535-80de-40bc24670462"
      },
      "source": [
        "clf_reg.predict_proba(X_train)"
      ],
      "execution_count": null,
      "outputs": [
        {
          "output_type": "execute_result",
          "data": {
            "text/plain": [
              "array([[0.00000000e+00, 1.00000000e+00],\n",
              "       [2.67431781e-01, 7.32568219e-01],\n",
              "       [9.99839412e-01, 1.60587526e-04],\n",
              "       [9.99999997e-01, 3.14574079e-09],\n",
              "       [1.47832493e-02, 9.85216751e-01],\n",
              "       [1.05337761e-06, 9.99998947e-01],\n",
              "       [4.62322374e-07, 9.99999538e-01],\n",
              "       [4.97896044e-06, 9.99995021e-01],\n",
              "       [2.66095157e-04, 9.99733905e-01],\n",
              "       [9.99914051e-01, 8.59488950e-05],\n",
              "       [2.75741652e-11, 1.00000000e+00],\n",
              "       [1.11022302e-15, 1.00000000e+00],\n",
              "       [0.00000000e+00, 1.00000000e+00],\n",
              "       [9.99999254e-01, 7.46037595e-07],\n",
              "       [1.00000000e+00, 2.17252532e-17],\n",
              "       [0.00000000e+00, 1.00000000e+00],\n",
              "       [1.00000000e+00, 3.60766635e-15],\n",
              "       [9.96765729e-01, 3.23427112e-03],\n",
              "       [1.00000000e+00, 1.64018873e-10],\n",
              "       [7.17213587e-07, 9.99999283e-01],\n",
              "       [1.45309177e-05, 9.99985469e-01],\n",
              "       [1.00000000e+00, 9.47934143e-13],\n",
              "       [1.00000000e+00, 1.65513982e-11],\n",
              "       [1.27683061e-05, 9.99987232e-01],\n",
              "       [1.00000000e+00, 3.07700591e-19],\n",
              "       [9.99972638e-01, 2.73619941e-05],\n",
              "       [1.00000000e+00, 2.52229818e-17],\n",
              "       [9.99984770e-01, 1.52295086e-05],\n",
              "       [9.99999998e-01, 1.53069264e-09],\n",
              "       [1.56441525e-01, 8.43558475e-01],\n",
              "       [1.00000000e+00, 1.97590096e-13],\n",
              "       [1.00000000e+00, 1.47369984e-17],\n",
              "       [6.94797414e-01, 3.05202586e-01],\n",
              "       [3.09624202e-07, 9.99999690e-01],\n",
              "       [2.36632935e-12, 1.00000000e+00],\n",
              "       [3.46797477e-03, 9.96532025e-01],\n",
              "       [1.10770279e-01, 8.89229721e-01],\n",
              "       [9.99999999e-01, 1.06175267e-09],\n",
              "       [9.99953214e-01, 4.67861954e-05],\n",
              "       [6.57675026e-10, 9.99999999e-01],\n",
              "       [1.00000000e+00, 7.66004791e-15],\n",
              "       [7.08968241e-07, 9.99999291e-01],\n",
              "       [1.00000000e+00, 3.37406954e-15],\n",
              "       [1.99840144e-15, 1.00000000e+00],\n",
              "       [1.00000000e+00, 1.65858524e-17],\n",
              "       [1.00000000e+00, 1.28867888e-24],\n",
              "       [7.33413330e-13, 1.00000000e+00],\n",
              "       [2.15681318e-02, 9.78431868e-01],\n",
              "       [8.13106927e-01, 1.86893073e-01],\n",
              "       [6.98261175e-01, 3.01738825e-01],\n",
              "       [2.00269189e-02, 9.79973081e-01],\n",
              "       [9.99924179e-01, 7.58214739e-05],\n",
              "       [1.00000000e+00, 4.28676914e-11],\n",
              "       [7.89842003e-09, 9.99999992e-01],\n",
              "       [1.00000000e+00, 1.05739711e-14],\n",
              "       [1.09977710e-03, 9.98900223e-01],\n",
              "       [0.00000000e+00, 1.00000000e+00],\n",
              "       [9.99686211e-01, 3.13788765e-04],\n",
              "       [1.00000000e+00, 7.64295724e-12],\n",
              "       [2.21391928e-01, 7.78608072e-01],\n",
              "       [1.76618914e-03, 9.98233811e-01],\n",
              "       [1.00000000e+00, 2.02167388e-25],\n",
              "       [9.99999952e-01, 4.78556846e-08],\n",
              "       [1.00000000e+00, 1.60979459e-32],\n",
              "       [1.00000000e+00, 3.02114106e-16],\n",
              "       [1.00000000e+00, 1.54891742e-19],\n",
              "       [1.00000000e+00, 2.24072731e-13],\n",
              "       [0.00000000e+00, 1.00000000e+00],\n",
              "       [0.00000000e+00, 1.00000000e+00],\n",
              "       [2.40030218e-13, 1.00000000e+00],\n",
              "       [1.33226763e-15, 1.00000000e+00],\n",
              "       [9.99999988e-01, 1.24800625e-08],\n",
              "       [1.73883130e-12, 1.00000000e+00],\n",
              "       [1.00000000e+00, 6.39566513e-18],\n",
              "       [0.00000000e+00, 1.00000000e+00],\n",
              "       [1.00000000e+00, 1.01638194e-11],\n",
              "       [2.66453526e-14, 1.00000000e+00],\n",
              "       [7.77241027e-01, 2.22758973e-01],\n",
              "       [1.59282575e-02, 9.84071742e-01],\n",
              "       [0.00000000e+00, 1.00000000e+00],\n",
              "       [1.00000000e+00, 5.17485307e-16],\n",
              "       [0.00000000e+00, 1.00000000e+00],\n",
              "       [9.99995786e-01, 4.21369070e-06],\n",
              "       [9.99999999e-01, 1.45234147e-09],\n",
              "       [5.79568426e-03, 9.94204316e-01],\n",
              "       [1.64168235e-10, 1.00000000e+00],\n",
              "       [0.00000000e+00, 1.00000000e+00],\n",
              "       [7.56893089e-02, 9.24310691e-01],\n",
              "       [3.01980663e-14, 1.00000000e+00],\n",
              "       [1.00000000e+00, 1.20888722e-17],\n",
              "       [3.48526696e-01, 6.51473304e-01],\n",
              "       [3.96972209e-07, 9.99999603e-01],\n",
              "       [1.00000000e+00, 3.64737139e-15],\n",
              "       [2.22044605e-15, 1.00000000e+00],\n",
              "       [0.00000000e+00, 1.00000000e+00],\n",
              "       [1.73391569e-06, 9.99998266e-01],\n",
              "       [5.80084571e-04, 9.99419915e-01],\n",
              "       [6.93728878e-03, 9.93062711e-01],\n",
              "       [1.00000000e+00, 1.04475215e-27],\n",
              "       [2.05387198e-01, 7.94612802e-01],\n",
              "       [6.56232455e-07, 9.99999344e-01],\n",
              "       [1.00000000e+00, 1.24826726e-27],\n",
              "       [3.95700681e-03, 9.96042993e-01],\n",
              "       [9.99999438e-01, 5.62354394e-07],\n",
              "       [2.60382693e-09, 9.99999997e-01],\n",
              "       [0.00000000e+00, 1.00000000e+00],\n",
              "       [1.10693676e-11, 1.00000000e+00],\n",
              "       [4.51885485e-09, 9.99999995e-01],\n",
              "       [9.99999964e-01, 3.57269698e-08],\n",
              "       [0.00000000e+00, 1.00000000e+00],\n",
              "       [4.91823328e-04, 9.99508177e-01],\n",
              "       [3.61915534e-02, 9.63808447e-01],\n",
              "       [0.00000000e+00, 1.00000000e+00],\n",
              "       [1.46993528e-12, 1.00000000e+00],\n",
              "       [4.87012334e-04, 9.99512988e-01],\n",
              "       [1.00000000e+00, 2.64704288e-19],\n",
              "       [7.54951657e-14, 1.00000000e+00],\n",
              "       [2.21378471e-13, 1.00000000e+00],\n",
              "       [2.43582932e-13, 1.00000000e+00],\n",
              "       [9.99999989e-01, 1.13051695e-08],\n",
              "       [9.89789010e-01, 1.02109898e-02],\n",
              "       [1.23306515e-07, 9.99999877e-01],\n",
              "       [1.00000000e+00, 8.60751811e-31],\n",
              "       [9.99999991e-01, 8.75645720e-09],\n",
              "       [1.66977543e-13, 1.00000000e+00],\n",
              "       [7.10542736e-15, 1.00000000e+00],\n",
              "       [3.35843071e-04, 9.99664157e-01],\n",
              "       [9.99831663e-01, 1.68336838e-04],\n",
              "       [1.00000000e+00, 1.50150574e-23],\n",
              "       [1.00000000e+00, 1.64751546e-21],\n",
              "       [1.00000000e+00, 7.69340449e-16],\n",
              "       [9.61350639e-01, 3.86493612e-02],\n",
              "       [9.99999963e-01, 3.70137048e-08],\n",
              "       [1.00000000e+00, 5.53627241e-12],\n",
              "       [9.99999998e-01, 1.56264600e-09],\n",
              "       [7.07272242e-04, 9.99292728e-01],\n",
              "       [1.14534713e-04, 9.99885465e-01],\n",
              "       [9.99998410e-01, 1.59028734e-06],\n",
              "       [9.99239115e-01, 7.60885102e-04],\n",
              "       [1.00000000e+00, 1.27360968e-32],\n",
              "       [1.81666818e-08, 9.99999982e-01],\n",
              "       [9.99726501e-01, 2.73499401e-04],\n",
              "       [1.00000000e+00, 8.84386861e-18],\n",
              "       [1.00000000e+00, 5.42796424e-27],\n",
              "       [1.70974346e-13, 1.00000000e+00],\n",
              "       [2.15383267e-14, 1.00000000e+00],\n",
              "       [2.44249065e-15, 1.00000000e+00],\n",
              "       [2.80445223e-10, 1.00000000e+00],\n",
              "       [8.87068197e-13, 1.00000000e+00],\n",
              "       [7.70620969e-03, 9.92293790e-01],\n",
              "       [1.70466977e-03, 9.98295330e-01],\n",
              "       [1.00000000e+00, 7.61557342e-16],\n",
              "       [2.64190847e-08, 9.99999974e-01],\n",
              "       [1.00000000e+00, 1.05044140e-21],\n",
              "       [3.91841148e-08, 9.99999961e-01],\n",
              "       [9.82211128e-01, 1.77888724e-02],\n",
              "       [1.95836680e-11, 1.00000000e+00],\n",
              "       [9.99999992e-01, 8.17007845e-09],\n",
              "       [5.97051293e-08, 9.99999940e-01],\n",
              "       [0.00000000e+00, 1.00000000e+00],\n",
              "       [1.00000000e+00, 3.82493393e-17],\n",
              "       [1.00000000e+00, 4.03374524e-20],\n",
              "       [8.29395873e-01, 1.70604127e-01],\n",
              "       [2.67563670e-01, 7.32436330e-01],\n",
              "       [1.73883130e-12, 1.00000000e+00],\n",
              "       [5.18033356e-08, 9.99999948e-01],\n",
              "       [6.55646515e-06, 9.99993444e-01],\n",
              "       [0.00000000e+00, 1.00000000e+00],\n",
              "       [3.54050123e-12, 1.00000000e+00],\n",
              "       [1.00000000e+00, 5.63239207e-16],\n",
              "       [1.00000000e+00, 2.53523430e-13],\n",
              "       [9.86711800e-01, 1.32882004e-02],\n",
              "       [1.09259647e-03, 9.98907404e-01],\n",
              "       [1.00000000e+00, 2.44747524e-15],\n",
              "       [1.00000000e+00, 3.94460119e-15],\n",
              "       [2.06165060e-02, 9.79383494e-01],\n",
              "       [1.00000000e+00, 9.60515513e-11],\n",
              "       [9.69711306e-01, 3.02886944e-02],\n",
              "       [3.45501405e-13, 1.00000000e+00],\n",
              "       [3.42018858e-10, 1.00000000e+00],\n",
              "       [6.66133815e-16, 1.00000000e+00],\n",
              "       [0.00000000e+00, 1.00000000e+00],\n",
              "       [4.10560475e-13, 1.00000000e+00],\n",
              "       [5.30939512e-04, 9.99469060e-01],\n",
              "       [1.00000000e+00, 3.81985169e-14],\n",
              "       [4.54648285e-08, 9.99999955e-01],\n",
              "       [1.00000000e+00, 1.64212887e-18],\n",
              "       [2.28085898e-05, 9.99977191e-01],\n",
              "       [1.00000000e+00, 9.57987163e-15],\n",
              "       [4.23628040e-05, 9.99957637e-01],\n",
              "       [9.39137657e-12, 1.00000000e+00],\n",
              "       [4.30886438e-11, 1.00000000e+00],\n",
              "       [9.99959918e-01, 4.00821517e-05],\n",
              "       [9.99996013e-01, 3.98697807e-06],\n",
              "       [1.00000000e+00, 1.17966192e-16],\n",
              "       [1.00000000e+00, 7.95198041e-31],\n",
              "       [1.00000000e+00, 3.06600509e-24],\n",
              "       [1.00000000e+00, 3.28810667e-23],\n",
              "       [0.00000000e+00, 1.00000000e+00],\n",
              "       [3.09890780e-10, 1.00000000e+00],\n",
              "       [9.99999993e-01, 7.15513292e-09],\n",
              "       [0.00000000e+00, 1.00000000e+00],\n",
              "       [1.00000000e+00, 1.34089901e-10],\n",
              "       [1.00000000e+00, 8.80184080e-21],\n",
              "       [1.00000000e+00, 2.87881122e-19],\n",
              "       [1.00000000e+00, 2.24242944e-12],\n",
              "       [5.75479664e-11, 1.00000000e+00],\n",
              "       [9.14487362e-06, 9.99990855e-01],\n",
              "       [9.99998936e-01, 1.06387375e-06],\n",
              "       [2.55826471e-11, 1.00000000e+00],\n",
              "       [0.00000000e+00, 1.00000000e+00],\n",
              "       [3.10334304e-05, 9.99968967e-01],\n",
              "       [1.00000000e+00, 4.96507348e-23],\n",
              "       [3.04667402e-12, 1.00000000e+00],\n",
              "       [1.20134791e-10, 1.00000000e+00],\n",
              "       [9.99999958e-01, 4.18628778e-08],\n",
              "       [1.00000000e+00, 8.67292247e-17],\n",
              "       [9.99886794e-01, 1.13206247e-04],\n",
              "       [1.89912695e-03, 9.98100873e-01],\n",
              "       [1.00000000e+00, 5.27099817e-15],\n",
              "       [5.52910367e-01, 4.47089633e-01],\n",
              "       [9.97239161e-01, 2.76083918e-03],\n",
              "       [1.00000000e+00, 1.17394172e-18],\n",
              "       [5.99520433e-15, 1.00000000e+00],\n",
              "       [3.15303339e-14, 1.00000000e+00],\n",
              "       [0.00000000e+00, 1.00000000e+00],\n",
              "       [9.96988809e-01, 3.01119097e-03]])"
            ]
          },
          "metadata": {},
          "execution_count": 16
        }
      ]
    },
    {
      "cell_type": "code",
      "metadata": {
        "colab": {
          "base_uri": "https://localhost:8080/"
        },
        "id": "Q6HLSNvJoEXq",
        "outputId": "28f82439-3357-4fd2-c3b2-5cf9309c475b"
      },
      "source": [
        "from sklearn.metrics import roc_auc_score\n",
        "\n",
        "roc_auc_score(y_test, clf.predict_proba(X_test)[:, 1])  # Вывод значения метрики AUC-ROC для первого классификатора."
      ],
      "execution_count": null,
      "outputs": [
        {
          "output_type": "execute_result",
          "data": {
            "text/plain": [
              "0.5697674418604651"
            ]
          },
          "metadata": {},
          "execution_count": 17
        }
      ]
    },
    {
      "cell_type": "markdown",
      "metadata": {
        "id": "48tbMm0E-Y0w"
      },
      "source": [
        "8. Посмотрите на вероятности, которые выдает второй классификатор (обученный с оптимальным шагом градиентного спуска и с регуляризацией) на тестовой части выборки. Что вы наблюдаете - как отличаются эти вероятности от вероятностей первого классификатора?\n",
        "\n",
        "   Посчитайте значение AUC-ROC второго классификатора. Ответ округлите до двух знаков после запятой."
      ]
    },
    {
      "cell_type": "code",
      "metadata": {
        "id": "71cqXdqBRw5B",
        "colab": {
          "base_uri": "https://localhost:8080/"
        },
        "outputId": "33d9aeaa-0868-41eb-ceae-d10e0e567c9e"
      },
      "source": [
        "roc_auc_score(y_test, clf_reg.predict_proba(X_test)[:, 1])  # Вывод значения метрики AUC-ROC для второго классификатора."
      ],
      "execution_count": null,
      "outputs": [
        {
          "output_type": "execute_result",
          "data": {
            "text/plain": [
              "0.8558844256518675"
            ]
          },
          "metadata": {},
          "execution_count": 18
        }
      ]
    },
    {
      "cell_type": "markdown",
      "metadata": {
        "id": "7P_Ap9jec0lC"
      },
      "source": [
        "9. Какой признак является самым важным по мнению лучшей модели (имеет наибольший по модулю коэффициент) для принятия решения?"
      ]
    },
    {
      "cell_type": "code",
      "metadata": {
        "id": "2AFsOXMYRyJg",
        "colab": {
          "base_uri": "https://localhost:8080/"
        },
        "outputId": "3869bda7-9139-4f34-b34d-8c0631a43159"
      },
      "source": [
        "max_id = np.argmax(clf_reg.coef_)\n",
        "max_val = clf_reg.coef_[0, max_id]\n",
        "\n",
        "print(\"Максимальный коэффициент = %.2f\" % max_val)\n",
        "print(\"Индекс максимального коэффициента = %i\" % max_id)"
      ],
      "execution_count": null,
      "outputs": [
        {
          "output_type": "stream",
          "name": "stdout",
          "text": [
            "Максимальный коэффициент = 9.26\n",
            "Индекс максимального коэффициента = 2\n"
          ]
        }
      ]
    }
  ]
}